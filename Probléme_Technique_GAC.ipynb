{
  "nbformat": 4,
  "nbformat_minor": 0,
  "metadata": {
    "colab": {
      "name": "Probléme Technique GAC",
      "provenance": []
    },
    "kernelspec": {
      "name": "python3",
      "display_name": "Python 3"
    }
  },
  "cells": [
    {
      "cell_type": "markdown",
      "metadata": {
        "id": "Y7RMjTu_l7uO",
        "colab_type": "text"
      },
      "source": [
        "Objectif approximer la fonction f:x->2*cos(x)+4 sur [0,10]\n",
        "grâce à un percpetron multicouche(soit un réseaux de neuronnes)\n",
        "\n",
        "\n"
      ]
    },
    {
      "cell_type": "code",
      "metadata": {
        "id": "5pA6ycWMb0xC",
        "colab_type": "code",
        "colab": {
          "base_uri": "https://localhost:8080/",
          "height": 295
        },
        "outputId": "be2a7d24-7b19-40be-cf43-092574adb9ff"
      },
      "source": [
        "# example of creating a univariate dataset with a given mapping function\n",
        "from matplotlib import pyplot\n",
        "from numpy import cos\n",
        "# define the input data\n",
        "x = [i/100 for i in range(0,1000)]\n",
        "# define the output data\n",
        "y = [2.0*cos(i)+4 for i in x]\n",
        "# plot the input versus the output\n",
        "pyplot.scatter(x,y)\n",
        "pyplot.title('Input (x) versus Output (y)')\n",
        "pyplot.xlabel('Input Variable (x)')\n",
        "pyplot.ylabel('Output Variable (y)')\n",
        "pyplot.show()"
      ],
      "execution_count": 4,
      "outputs": [
        {
          "output_type": "display_data",
          "data": {
            "image/png": "[encoded data removed]",
            "text/plain": [
              "<Figure size 432x288 with 1 Axes>"
            ]
          },
          "metadata": {
            "tags": [],
            "needs_background": "light"
          }
        }
      ]
    },
    {
      "cell_type": "markdown",
      "metadata": {
        "id": "J3D5KYQGb3F4",
        "colab_type": "text"
      },
      "source": [
        "La fonction à approximer correpsond donc à un signal sinusoïdale qu'il faudra discrétiser afin de permettre la prédiction via le réseaux de neuronnes.\n",
        "L'étude du signal par un réseaux de neuronnes nécessite le formatage de notre data set x vecteurs des données en entrée et y vecteurs des données attendues en résultats afin de pouvoir calculer l'erreur d'approximation faite par le réseaux."
      ]
    },
    {
      "cell_type": "code",
      "metadata": {
        "id": "AHrf1YvYoXgJ",
        "colab_type": "code",
        "colab": {
          "base_uri": "https://localhost:8080/",
          "height": 35
        },
        "outputId": "a84485b1-f4b3-4407-805c-e9088ba6b829"
      },
      "source": [
        "# define the dataset\n",
        "import numpy as np\n",
        "x = np.asarray([i/100 for i in range(0,1001)])\n",
        "y = np.asarray([2.0*cos(i)+4 for i in x])\n",
        "print(x.min(), x.max(), y.min(), y.max())"
      ],
      "execution_count": 7,
      "outputs": [
        {
          "output_type": "stream",
          "text": [
            "0.0 10.0 2.0000025365449208 6.0\n"
          ],
          "name": "stdout"
        }
      ]
    },
    {
      "cell_type": "markdown",
      "metadata": {
        "id": "oX30l4Wjo67s",
        "colab_type": "text"
      },
      "source": [
        "Les données x et y sont reformatés sous forme de vecteurs afin d'être adapté aux algorithme d'apprentissage automatique sous python"
      ]
    },
    {
      "cell_type": "code",
      "metadata": {
        "id": "hhbi8nAHpHsm",
        "colab_type": "code",
        "colab": {
          "base_uri": "https://localhost:8080/",
          "height": 293
        },
        "outputId": "6ec804fa-dcf9-448b-a29e-e9f9df6f4d20"
      },
      "source": [
        "import sklearn.preprocessing\n",
        "\n",
        "x = x.reshape((len(x), 1))\n",
        "y = y.reshape((len(y), 1))\n",
        "\n",
        "\n",
        "# separately scale the input and output variables\n",
        "scale_x = sklearn.preprocessing.MinMaxScaler()\n",
        "x = scale_x.fit_transform(x)\n",
        "scale_y = sklearn.preprocessing.MinMaxScaler()\n",
        "y = scale_y.fit_transform(y)\n",
        "print(x.min(), x.max(), y.min(), y.max())"
      ],
      "execution_count": 23,
      "outputs": [
        {
          "output_type": "stream",
          "text": [
            "0.0 1.0 0.0 1.0\n",
            "[[0.   ]\n",
            " [0.001]\n",
            " [0.002]\n",
            " ...\n",
            " [0.998]\n",
            " [0.999]\n",
            " [1.   ]]\n",
            "[[1.        ]\n",
            " [0.999975  ]\n",
            " [0.9999    ]\n",
            " ...\n",
            " [0.0751077 ]\n",
            " [0.07776457]\n",
            " [0.08046365]]\n"
          ],
          "name": "stdout"
        }
      ]
    },
    {
      "cell_type": "markdown",
      "metadata": {
        "id": "F6gb_Nb3rb-S",
        "colab_type": "text"
      },
      "source": [
        "Normalisation des data input et output pour faciliter la prédiction par le réseaux de neurones"
      ]
    },
    {
      "cell_type": "markdown",
      "metadata": {
        "id": "EViK4L2Rtfke",
        "colab_type": "text"
      },
      "source": [
        "Initailisation du réseaux de neuronnes vides puis ajout des 'couches cachées' "
      ]
    },
    {
      "cell_type": "code",
      "metadata": {
        "id": "Xgco_qAlsvGY",
        "colab_type": "code",
        "colab": {}
      },
      "source": [
        "import keras\n",
        "from keras.layers import Dense, Activation\n",
        "# design the neural network model\n",
        "##initialisation du réseaux de neuronnes vides\n",
        "model = keras.Sequential()\n",
        "#première couche cachée avec 10 noeuds\n",
        "model.add(Dense(10, input_dim=1, activation='relu', kernel_initializer='he_uniform'))\n",
        "#ajout deuxièle couche cachée avec 10 noeuds\n",
        "model.add(Dense(10, activation='relu', kernel_initializer='he_uniform'))\n",
        "#ajout couche de sortie\n",
        "model.add(Dense(1))"
      ],
      "execution_count": 0,
      "outputs": []
    },
    {
      "cell_type": "markdown",
      "metadata": {
        "id": "yvT9u2Mkteyh",
        "colab_type": "text"
      },
      "source": [
        "On va adapter le modèle du signal en se basant sur une erreur d'approximation MSE soit l'erreure quadratique moyenne entre les valeurs de sorties attendues et les prédections calculées par le réseaux de neuronnes. De plus on optimise le modèle grâce à l'optimizer 'adam' disponible dans la librairie keras. Cet optimizer permet d'effectuer un gradiant descendant qui permet de diminuer l'erreur d'approximation donc d'optimiser le modèle."
      ]
    },
    {
      "cell_type": "code",
      "metadata": {
        "id": "i00TG6p3wDwt",
        "colab_type": "code",
        "colab": {
          "base_uri": "https://localhost:8080/",
          "height": 35
        },
        "outputId": "e05d363b-c17d-4441-b9bd-9c0bacb86018"
      },
      "source": [
        "# define the loss function and optimization algorithm\n",
        "model.compile(loss='mse', optimizer='adam')\n",
        "\n",
        "\n",
        "# fit the model on the training dataset\n",
        "model.fit(x, y, epochs=500, batch_size=10, verbose=0)"
      ],
      "execution_count": 39,
      "outputs": [
        {
          "output_type": "execute_result",
          "data": {
            "text/plain": [
              "<keras.callbacks.callbacks.History at 0x7f54444ed198>"
            ]
          },
          "metadata": {
            "tags": []
          },
          "execution_count": 39
        }
      ]
    },
    {
      "cell_type": "code",
      "metadata": {
        "id": "icrCI7fWxmeC",
        "colab_type": "code",
        "colab": {
          "base_uri": "https://localhost:8080/",
          "height": 146
        },
        "outputId": "a5e68f7a-f409-4139-f355-15011af5f0ce"
      },
      "source": [
        "# make predictions for the input data\n",
        "yhat = model.predict(x)\n",
        "print(yhat)"
      ],
      "execution_count": 40,
      "outputs": [
        {
          "output_type": "stream",
          "text": [
            "[[0.99649906]\n",
            " [0.99649   ]\n",
            " [0.9964808 ]\n",
            " ...\n",
            " [0.02215143]\n",
            " [0.02221612]\n",
            " [0.02228073]]\n"
          ],
          "name": "stdout"
        }
      ]
    },
    {
      "cell_type": "code",
      "metadata": {
        "id": "0oLVotGkx4_q",
        "colab_type": "code",
        "colab": {
          "base_uri": "https://localhost:8080/",
          "height": 295
        },
        "outputId": "36c9576b-e051-42d2-cb74-78a0c60864a5"
      },
      "source": [
        "# inverse transforms\n",
        "x_plot = scale_x.inverse_transform(x)\n",
        "y_plot = scale_y.inverse_transform(y)\n",
        "yhat_plot = scale_y.inverse_transform(yhat)\n",
        "\n",
        "\n",
        "\n",
        "\n",
        "pyplot.scatter(x_plot,y_plot, label='Actual')\n",
        "# plot x vs yhat\n",
        "pyplot.scatter(x_plot,yhat_plot, label='Predicted')\n",
        "# plot x vs yhat\n",
        "pyplot.title('Input (x) versus Output (y)')\n",
        "pyplot.xlabel('Input Variable (x)')\n",
        "pyplot.ylabel('Output Variable (y)')\n",
        "pyplot.legend()\n",
        "pyplot.show()"
      ],
      "execution_count": 41,
      "outputs": [
        {
          "output_type": "display_data",
          "data": {
            "image/png": "[encoded data removed]",
            "text/plain": [
              "<Figure size 432x288 with 1 Axes>"
            ]
          },
          "metadata": {
            "tags": [],
            "needs_background": "light"
          }
        }
      ]
    }
  ]
}